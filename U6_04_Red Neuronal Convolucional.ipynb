{
 "cells": [
  {
   "cell_type": "code",
   "execution_count": null,
   "metadata": {
    "id": "50f-QGUYO0XA"
   },
   "outputs": [
    {
     "ename": "ModuleNotFoundError",
     "evalue": "No module named 'tensorflow'",
     "output_type": "error",
     "traceback": [
      "\u001b[31m---------------------------------------------------------------------------\u001b[39m",
      "\u001b[31mModuleNotFoundError\u001b[39m                       Traceback (most recent call last)",
      "\u001b[36mCell\u001b[39m\u001b[36m \u001b[39m\u001b[32mIn[1]\u001b[39m\u001b[32m, line 1\u001b[39m\n\u001b[32m----> \u001b[39m\u001b[32m1\u001b[39m \u001b[38;5;28;01mimport\u001b[39;00m\u001b[38;5;250m \u001b[39m\u001b[34;01mtensorflow\u001b[39;00m\u001b[38;5;250m \u001b[39m\u001b[38;5;28;01mas\u001b[39;00m\u001b[38;5;250m \u001b[39m\u001b[34;01mtf\u001b[39;00m\n\u001b[32m      2\u001b[39m \u001b[38;5;28;01mimport\u001b[39;00m\u001b[38;5;250m \u001b[39m\u001b[34;01mtensorflow_datasets\u001b[39;00m\u001b[38;5;250m \u001b[39m\u001b[38;5;28;01mas\u001b[39;00m\u001b[38;5;250m \u001b[39m\u001b[34;01mtfds\u001b[39;00m\n",
      "\u001b[31mModuleNotFoundError\u001b[39m: No module named 'tensorflow'"
     ]
    }
   ],
   "source": [
    "import tensorflow as tf\n",
    "import tensorflow_datasets as tfds"
   ]
  },
  {
   "cell_type": "code",
   "execution_count": null,
   "metadata": {
    "id": "ta-kALhJP1Pp"
   },
   "outputs": [],
   "source": [
    "datos, metadatos = tfds.load(\"mnist\", as_supervised=True, with_info=True)"
   ]
  },
  {
   "cell_type": "code",
   "execution_count": null,
   "metadata": {
    "id": "q-4QNLGpQHMt"
   },
   "outputs": [],
   "source": [
    "metadatos"
   ]
  },
  {
   "cell_type": "code",
   "execution_count": null,
   "metadata": {
    "id": "HHwgBX_iQVbx"
   },
   "outputs": [],
   "source": [
    "datos_entrenamiento = datos[\"train\"]\n",
    "datos_pruebas = datos[\"test\"]"
   ]
  },
  {
   "cell_type": "code",
   "execution_count": null,
   "metadata": {
    "id": "PsQdnu6GQcba"
   },
   "outputs": [],
   "source": [
    "nombres_clases = metadatos.features[\"label\"].names"
   ]
  },
  {
   "cell_type": "code",
   "execution_count": null,
   "metadata": {
    "id": "PYTzopV1QnU9"
   },
   "outputs": [],
   "source": [
    "#Normalizacion\n",
    "#0-255 1 byte\n",
    "#Transformar 0-255 0-1 (0=0, 255=1, 127=.5)\n",
    "\n",
    "#Normalizar datos ent y pruebas con una funcion\n",
    "def normalizar(imagenes, etiquetas):\n",
    "  imagenes = tf.cast(imagenes, tf.float32)\n",
    "  imagenes = imagenes/255\n",
    "  return imagenes, etiquetas\n",
    "\n",
    "datos_entrenamiento = datos_entrenamiento.map(normalizar)\n",
    "datos_pruebas = datos_pruebas.map(normalizar)\n",
    "\n",
    "#Agregar en cache\n",
    "datos_entrenamiento = datos_entrenamiento.cache()\n",
    "datos_pruebas = datos_pruebas.cache()"
   ]
  },
  {
   "cell_type": "code",
   "execution_count": null,
   "metadata": {
    "id": "2PvMoeR1SHze"
   },
   "outputs": [],
   "source": [
    "for imagen, etiqueta in datos_entrenamiento.take(1):\n",
    "  break\n",
    "\n",
    "import matplotlib.pyplot as plt\n",
    "\n",
    "#Mostrarlo en pantalla\n",
    "plt.figure()\n",
    "plt.imshow(imagen, cmap=plt.cm.binary)\n",
    "plt.colorbar()\n",
    "plt.show()"
   ]
  },
  {
   "cell_type": "code",
   "execution_count": null,
   "metadata": {
    "id": "st41avTXTILE"
   },
   "outputs": [],
   "source": [
    "plt.figure(figsize=(10,10))\n",
    "for i, (imagen, etiqueta) in enumerate(datos_entrenamiento.take(25)):\n",
    "  #Mostrarlo en pantalla\n",
    "  plt.subplot(5, 5, i+1)\n",
    "  plt.imshow(imagen, cmap=plt.cm.binary)\n",
    "\n",
    "plt.show()"
   ]
  },
  {
   "cell_type": "code",
   "execution_count": null,
   "metadata": {
    "id": "I3YJvHr_TtCG"
   },
   "outputs": [],
   "source": [
    "\"\"\"modelo = tf.keras.Sequential([\n",
    "    #784 datos de entrada\n",
    "    tf.keras.layers.Flatten(input_shape=(28,28,1)), #1 = blanco y negro\n",
    "    # # # Capa oculta\n",
    "    tf.keras.layers.Dense(50, activation=tf.nn.relu),\n",
    "    tf.keras.layers.Dense(50, activation=tf.nn.relu),\n",
    "    # Capa de salida\n",
    "    tf.keras.layers.Dense(10, activation=tf.nn.softmax)\n",
    "])\"\"\"\n",
    "\n",
    "modelo = tf.keras.Sequential([\n",
    "    tf.keras.layers.Conv2D(32, (3,3), input_shape=(28,28,1), activation=\"relu\"),\n",
    "    tf.keras.layers.MaxPooling2D(2,2),\n",
    "\n",
    "    tf.keras.layers.Conv2D(64, (3,3), activation=\"relu\"),\n",
    "    tf.keras.layers.MaxPooling2D(2,2),\n",
    "\n",
    "    tf.keras.layers.Flatten(),\n",
    "    tf.keras.layers.Dense(units=100, activation=\"relu\"),\n",
    "    tf.keras.layers.Dense(10, activation=\"softmax\")\n",
    "])"
   ]
  },
  {
   "cell_type": "code",
   "execution_count": null,
   "metadata": {
    "id": "YDG9RR2aUvFi"
   },
   "outputs": [],
   "source": [
    "modelo.compile(\n",
    "    optimizer=\"adam\",\n",
    "    loss=tf.keras.losses.SparseCategoricalCrossentropy(),\n",
    "    metrics=[\"accuracy\"]\n",
    ")"
   ]
  },
  {
   "cell_type": "code",
   "execution_count": null,
   "metadata": {
    "id": "XlKtFGB1VNo6"
   },
   "outputs": [],
   "source": [
    "TAMANO_LOTE = 32\n",
    "\n",
    "datos_entrenamiento = datos_entrenamiento.repeat().shuffle(60000).batch(TAMANO_LOTE)\n",
    "datos_pruebas = datos_pruebas.batch(TAMANO_LOTE)"
   ]
  },
  {
   "cell_type": "code",
   "execution_count": null,
   "metadata": {
    "id": "V_QNS1W4VrS_"
   },
   "outputs": [],
   "source": [
    "import math\n",
    "\n",
    "#Entrenar\n",
    "entrnamiento = modelo.fit(\n",
    "    datos_entrenamiento, epochs=10,\n",
    "    steps_per_epoch=math.ceil(60000/TAMANO_LOTE)\n",
    ")"
   ]
  },
  {
   "cell_type": "code",
   "execution_count": null,
   "metadata": {
    "id": "reWvnLvnXag8"
   },
   "outputs": [],
   "source": [
    "#Pintar una cuadricula con varias predicciones, y marcar si fue correcta (azul) o incorrecta (roja)\n",
    "import numpy as np\n",
    "\n",
    "for imagenes_prueba, etiquetas_prueba in datos_pruebas.take(1):\n",
    "  imagenes_prueba = imagenes_prueba.numpy()\n",
    "  etiquetas_prueba = etiquetas_prueba.numpy()\n",
    "  predicciones = modelo.predict(imagenes_prueba)\n",
    "  \n",
    "def graficar_imagen(i, arr_predicciones, etiquetas_reales, imagenes):\n",
    "  arr_predicciones, etiqueta_real, img = arr_predicciones[i], etiquetas_reales[i], imagenes[i]\n",
    "  plt.grid(False)\n",
    "  plt.xticks([])\n",
    "  plt.yticks([])\n",
    "  \n",
    "  plt.imshow(img[...,0], cmap=plt.cm.binary)\n",
    "\n",
    "  etiqueta_prediccion = np.argmax(arr_predicciones)\n",
    "  if etiqueta_prediccion == etiqueta_real:\n",
    "    color = 'blue'\n",
    "  else:\n",
    "    color = 'red'\n",
    "  \n",
    "  plt.xlabel(\"{} {:2.0f}% ({})\".format(nombres_clases[etiqueta_prediccion],\n",
    "                                100*np.max(arr_predicciones),\n",
    "                                nombres_clases[etiqueta_real]),\n",
    "                                color=color)\n",
    "  \n",
    "def graficar_valor_arreglo(i, arr_predicciones, etiqueta_real):\n",
    "  arr_predicciones, etiqueta_real = arr_predicciones[i], etiqueta_real[i]\n",
    "  plt.grid(False)\n",
    "  plt.xticks([])\n",
    "  plt.yticks([])\n",
    "  grafica = plt.bar(range(10), arr_predicciones, color=\"#777777\")\n",
    "  plt.ylim([0, 1]) \n",
    "  etiqueta_prediccion = np.argmax(arr_predicciones)\n",
    "  \n",
    "  grafica[etiqueta_prediccion].set_color('red')\n",
    "  grafica[etiqueta_real].set_color('blue')\n",
    "  \n",
    "filas = 5\n",
    "columnas = 5\n",
    "num_imagenes = filas*columnas\n",
    "plt.figure(figsize=(2*2*columnas, 2*filas))\n",
    "for i in range(num_imagenes):\n",
    "  plt.subplot(filas, 2*columnas, 2*i+1)\n",
    "  graficar_imagen(i, predicciones, etiquetas_prueba, imagenes_prueba)\n",
    "  plt.subplot(filas, 2*columnas, 2*i+2)\n",
    "  graficar_valor_arreglo(i, predicciones, etiquetas_prueba)"
   ]
  },
  {
   "cell_type": "code",
   "execution_count": null,
   "metadata": {
    "id": "0XgsYDq046Uc"
   },
   "outputs": [],
   "source": [
    "datos, metadatos = tfds.load(\"cats_vs_dogs\", as_supervised=True, with_info=True)"
   ]
  },
  {
   "cell_type": "code",
   "execution_count": null,
   "metadata": {
    "id": "AFvlfcd35UGb"
   },
   "outputs": [],
   "source": [
    "metadatos"
   ]
  },
  {
   "cell_type": "code",
   "execution_count": null,
   "metadata": {
    "id": "mM6LU7L55dL2"
   },
   "outputs": [],
   "source": [
    "tfds.show_examples(datos[\"train\"], metadatos)"
   ]
  },
  {
   "cell_type": "code",
   "execution_count": null,
   "metadata": {
    "id": "9aeruoqu6Aj5"
   },
   "outputs": [],
   "source": [
    "import matplotlib.pyplot as plt\n",
    "import cv2 #opencv - trabajar y hacer trnasformaciones en imagenes\n",
    "\n",
    "plt.figure(figsize=(20,20))\n",
    "\n",
    "TAMANO_IMG=100\n",
    "\n",
    "for i, (imagen, etiqueta) in enumerate(datos[\"train\"].take(25)):\n",
    "  imagen = cv2.resize(imagen.numpy(), (TAMANO_IMG, TAMANO_IMG))\n",
    "  imagen = cv2.cvtColor(imagen, cv2.COLOR_BGR2GRAY)\n",
    "  plt.subplot(5, 5, i+1)\n",
    "  plt.imshow(imagen, cmap=\"gray\")"
   ]
  },
  {
   "cell_type": "code",
   "execution_count": null,
   "metadata": {
    "id": "g7Es4n4pGWf5"
   },
   "outputs": [],
   "source": [
    "datos_entrenamiento = []"
   ]
  },
  {
   "cell_type": "code",
   "execution_count": null,
   "metadata": {
    "id": "mr4vO-BzGaVy"
   },
   "outputs": [],
   "source": [
    "for i, (imagen, etiqueta) in enumerate(datos[\"train\"]):\n",
    "  imagen = cv2.resize(imagen.numpy(), (TAMANO_IMG, TAMANO_IMG))\n",
    "  imagen = cv2.cvtColor(imagen, cv2.COLOR_BGR2GRAY)\n",
    "  imagen = imagen.reshape(TAMANO_IMG, TAMANO_IMG, 1)\n",
    "  datos_entrenamiento.append([imagen, etiqueta])"
   ]
  },
  {
   "cell_type": "code",
   "execution_count": null,
   "metadata": {
    "id": "DmT7_t-KGpDH"
   },
   "outputs": [],
   "source": [
    "datos_entrenamiento[0]"
   ]
  },
  {
   "cell_type": "code",
   "execution_count": null,
   "metadata": {
    "id": "5UhrnkKVGxw7"
   },
   "outputs": [],
   "source": [
    "#Preparar variablas X y y\n",
    "\n",
    "X = []\n",
    "y = []\n",
    "\n",
    "for imagen, etiqueta in datos_entrenamiento:\n",
    "  X.append(imagen)\n",
    "  y.append(etiqueta)"
   ]
  },
  {
   "cell_type": "code",
   "execution_count": null,
   "metadata": {
    "id": "eBMN5JV0G6jE"
   },
   "outputs": [],
   "source": [
    "#Normalizar las imagenes\n",
    "import numpy as np\n",
    "\n",
    "X = np.array(X).astype(float) / 255"
   ]
  },
  {
   "cell_type": "code",
   "execution_count": null,
   "metadata": {
    "id": "EKSnSdtBHAfU"
   },
   "outputs": [],
   "source": [
    "X[0]"
   ]
  },
  {
   "cell_type": "code",
   "execution_count": null,
   "metadata": {
    "id": "MZJlKMPJHDjY"
   },
   "outputs": [],
   "source": [
    "y"
   ]
  },
  {
   "cell_type": "code",
   "execution_count": null,
   "metadata": {
    "id": "D_xIpRokHE-V"
   },
   "outputs": [],
   "source": [
    "y = np.array(y)"
   ]
  },
  {
   "cell_type": "code",
   "execution_count": null,
   "metadata": {
    "id": "hcWynZhHHKPY"
   },
   "outputs": [],
   "source": [
    "modelo = tf.keras.models.Sequential([\n",
    "    tf.keras.layers.Conv2D(32, (3,3), activation=\"relu\", input_shape=(100, 100, 1)),\n",
    "    tf.keras.layers.MaxPooling2D(2, 2),\n",
    "    tf.keras.layers.Conv2D(64, (3,3), activation=\"relu\"),\n",
    "    tf.keras.layers.MaxPooling2D(2, 2),\n",
    "    tf.keras.layers.Conv2D(128, (3,3), activation=\"relu\"),\n",
    "    tf.keras.layers.MaxPooling2D(2, 2),\n",
    "\n",
    "    tf.keras.layers.Flatten(),\n",
    "    tf.keras.layers.Dense(100, activation=\"relu\"),\n",
    "    tf.keras.layers.Dense(1, activation=\"sigmoid\")\n",
    "])"
   ]
  },
  {
   "cell_type": "code",
   "execution_count": null,
   "metadata": {
    "id": "bhwVnnQlHg_C"
   },
   "outputs": [],
   "source": [
    "modelo.compile(\n",
    "    optimizer=\"adam\", loss=\"binary_crossentropy\", metrics=[\"accuracy\"]\n",
    ")"
   ]
  },
  {
   "cell_type": "code",
   "execution_count": null,
   "metadata": {
    "id": "0BxVK3n0IX8p"
   },
   "outputs": [],
   "source": [
    "modelo.fit(\n",
    "    X, y, batch_size=32, validation_split=0.15, epochs=50\n",
    ")"
   ]
  },
  {
   "cell_type": "code",
   "execution_count": null,
   "metadata": {
    "id": "m23RgfakHvU5"
   },
   "outputs": [],
   "source": [
    "#Sobreajuste over-fitting\n",
    "\n",
    "#Dropout\n",
    "#Aumento de datos"
   ]
  }
 ],
 "metadata": {
  "accelerator": "GPU",
  "colab": {
   "provenance": []
  },
  "gpuClass": "standard",
  "kernelspec": {
   "display_name": "Python 3 (ipykernel)",
   "language": "python",
   "name": "python3"
  },
  "language_info": {
   "codemirror_mode": {
    "name": "ipython",
    "version": 3
   },
   "file_extension": ".py",
   "mimetype": "text/x-python",
   "name": "python",
   "nbconvert_exporter": "python",
   "pygments_lexer": "ipython3",
   "version": "3.13.2"
  }
 },
 "nbformat": 4,
 "nbformat_minor": 4
}
